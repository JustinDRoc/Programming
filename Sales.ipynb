{
  "nbformat": 4,
  "nbformat_minor": 0,
  "metadata": {
    "colab": {
      "name": "Sales.ipynb",
      "provenance": [],
      "collapsed_sections": []
    },
    "kernelspec": {
      "name": "python3",
      "display_name": "Python 3"
    }
  },
  "cells": [
    {
      "cell_type": "markdown",
      "metadata": {
        "id": "_JvuH4p8K7wA",
        "colab_type": "text"
      },
      "source": [
        "# **Software Packaging Co.**\n",
        "*Fall Sale!*\n",
        "*Blowout discount pricing!*\n",
        "\n",
        "***The Super Ultra Mega Software Package only $99! Buy Now!***"
      ]
    },
    {
      "cell_type": "code",
      "metadata": {
        "id": "sMg6fm2oWRuI",
        "colab_type": "code",
        "colab": {
          "base_uri": "https://localhost:8080/",
          "height": 85
        },
        "outputId": "40aa45c1-0fad-4010-a158-31f441f8d632"
      },
      "source": [
        "# constants\n",
        "package_price = 99.00\n",
        "\n",
        "# input number of packages\n",
        "amt = int(input(\"Number of packages purchased: \"))\n",
        "\n",
        "# subtotal\n",
        "subtotal = package_price * amt\n",
        "\n",
        "\n",
        "# calculating percentage of discount based on number of products purchased\n",
        "if amt >= 1 and amt <=9:\n",
        "    disc=1.00\n",
        "    discount=0.00\n",
        "elif amt >= 10 and amt <=19:\n",
        "  disc=0.90\n",
        "  discount=0.10\n",
        "elif amt >= 20 and amt <=49:\n",
        "  disc=0.80\n",
        "  discount=0.20\n",
        "elif amt >= 50 and amt <=99:\n",
        "   disc=0.70\n",
        "   discount=0.30\n",
        "elif amt >= 100:\n",
        "  disc=0.60\n",
        "  discount=0.40\n",
        "\n",
        "# total price\n",
        "totalprice = subtotal * disc\n",
        "\n",
        "# print\n",
        "print(f'Sub Total: {subtotal:,.2f}')\n",
        "print(f'Discount: {discount:,.0%}')\n",
        "print(f'Total price: ${totalprice:,.2f}')"
      ],
      "execution_count": 11,
      "outputs": [
        {
          "output_type": "stream",
          "text": [
            "Number of packages purchased: 20\n",
            "Sub Total: 1,980.00\n",
            "Discount: 20%\n",
            "Total price: $1,584.00\n"
          ],
          "name": "stdout"
        }
      ]
    },
    {
      "cell_type": "markdown",
      "metadata": {
        "id": "vDFq_anA3-G7",
        "colab_type": "text"
      },
      "source": [
        "# **Fast Freight Shipping Co.**\n",
        "***Delivering your freight, for the best rates***\n"
      ]
    },
    {
      "cell_type": "code",
      "metadata": {
        "id": "1Z5975qF33TK",
        "colab_type": "code",
        "colab": {
          "base_uri": "https://localhost:8080/",
          "height": 51
        },
        "outputId": "f782e11b-6929-4e37-df5f-4c1c5955ba36"
      },
      "source": [
        "# ask user for weight of package, only 1 package on the scale at a time\n",
        "weight = float(input('Enter weight of package in pounds: '))\n",
        "\n",
        "# calculate rate based on weight of package\n",
        "if weight <=2:\n",
        "    rate=1.50\n",
        "elif weight >=3 and weight <=6:\n",
        "  rate=3.00\n",
        "elif weight >=7 and weight <=10:\n",
        "  rate=4.00\n",
        "elif weight >=11:\n",
        "   rate=4.75\n",
        "\n",
        "# print\n",
        "print(f'Shipping rate per pound: ${rate:,.2f}')"
      ],
      "execution_count": 27,
      "outputs": [
        {
          "output_type": "stream",
          "text": [
            "Enter weight of package in pounds: 11\n",
            "Shipping rate per pound: $4.75\n"
          ],
          "name": "stdout"
        }
      ]
    }
  ]
}