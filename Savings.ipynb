{
  "nbformat": 4,
  "nbformat_minor": 0,
  "metadata": {
    "colab": {
      "name": "Savings.ipynb",
      "provenance": []
    },
    "kernelspec": {
      "name": "python3",
      "display_name": "Python 3"
    }
  },
  "cells": [
    {
      "cell_type": "markdown",
      "metadata": {
        "id": "fUo_kiDsyJem",
        "colab_type": "text"
      },
      "source": [
        "# Robinhood Investments\n",
        "Please login below"
      ]
    },
    {
      "cell_type": "code",
      "metadata": {
        "id": "NNh7WRRc0ZT7",
        "colab_type": "code",
        "colab": {
          "base_uri": "https://localhost:8080/",
          "height": 119
        },
        "outputId": "3bbe3506-002b-4ae2-fda2-f230bb94e570"
      },
      "source": [
        "name = input('What is your member ID?\\n')\n",
        "print(\"Hello member #\",name)\n",
        "names = input('What is your pin code?\\n')\n",
        "print(\"You have successfully logged in\")"
      ],
      "execution_count": 12,
      "outputs": [
        {
          "output_type": "stream",
          "text": [
            "What is your member ID?\n",
            "115\n",
            "Hello member # 115\n",
            "What is your pin code?\n",
            "1512\n",
            "You have successfully logged in\n"
          ],
          "name": "stdout"
        }
      ]
    },
    {
      "cell_type": "markdown",
      "metadata": {
        "id": "5SqZkQ6Z1B-l",
        "colab_type": "text"
      },
      "source": [
        "# Welcome!\n",
        "NEW* *Try out our new ***Investment Calculator*** to calculate future investments, today!*\n",
        "\n",
        "\n",
        "*   Find you **initial** investment value below."
      ]
    },
    {
      "cell_type": "code",
      "metadata": {
        "id": "uWUCLstpoFPI",
        "colab_type": "code",
        "colab": {
          "base_uri": "https://localhost:8080/",
          "height": 136
        },
        "outputId": "2b14585e-51b3-4675-89f8-f6ec1ee7382e"
      },
      "source": [
        "#to get the present value of a potential investment\n",
        "d = float(input(\"What is the desired investment value?\\n\"))\n",
        "i = float(input(\"What is the interest rate?\\n\"))\n",
        "t = float(input(\"What is the time on the investment?\\n\"))\n",
        "\n",
        "output = d/(i/100+1)**t\n",
        "print(\"The initial investment value is: \", output)"
      ],
      "execution_count": 18,
      "outputs": [
        {
          "output_type": "stream",
          "text": [
            "What is the desired value?\n",
            "1000\n",
            "What is the interest rate?\n",
            "15\n",
            "What is the time on the investment?\n",
            "10\n",
            "The initial investment value is:  247.18470612186587\n"
          ],
          "name": "stdout"
        }
      ]
    },
    {
      "cell_type": "markdown",
      "metadata": {
        "id": "xf0syW30pRdO",
        "colab_type": "text"
      },
      "source": [
        "\n",
        "\n",
        "*   Find you **future** investment value below.\n",
        "\n"
      ]
    },
    {
      "cell_type": "code",
      "metadata": {
        "id": "x-7ilMpu5s1X",
        "colab_type": "code",
        "colab": {
          "base_uri": "https://localhost:8080/",
          "height": 136
        },
        "outputId": "25f03c65-06e3-4017-9869-09a1d69afe36"
      },
      "source": [
        "#to get the future value of a potential investment\n",
        "p = float(input(\"What is the investment?\\n\"))\n",
        "r = float(input(\"What is the interest rate?\\n\"))\n",
        "t = float(input(\"What is the time on the investment?\\n\"))\n",
        "\n",
        "output = p*(1+r)**t\n",
        "print(\"The future value is: \", output)"
      ],
      "execution_count": 19,
      "outputs": [
        {
          "output_type": "stream",
          "text": [
            "What is the investment?\n",
            "1000\n",
            "What is the interest rate?\n",
            "15\n",
            "What is the time on the investment?\n",
            "10\n",
            "The future value is:  1099511627776000.0\n"
          ],
          "name": "stdout"
        }
      ]
    },
    {
      "cell_type": "markdown",
      "metadata": {
        "id": "r5khpf9J7kAf",
        "colab_type": "text"
      },
      "source": [
        "# *Investment sales coming soon...*"
      ]
    }
  ]
}